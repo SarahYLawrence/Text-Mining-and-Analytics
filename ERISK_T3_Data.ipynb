{
  "nbformat": 4,
  "nbformat_minor": 0,
  "metadata": {
    "colab": {
      "provenance": [],
      "authorship_tag": "ABX9TyMVqQqHmXMz8offXy1nBnjt",
      "include_colab_link": true
    },
    "kernelspec": {
      "name": "python3",
      "display_name": "Python 3"
    },
    "language_info": {
      "name": "python"
    }
  },
  "cells": [
    {
      "cell_type": "markdown",
      "metadata": {
        "id": "view-in-github",
        "colab_type": "text"
      },
      "source": [
        "<a href=\"https://colab.research.google.com/github/SarahYLawrence/Text-Mining-and-Analytics/blob/main/ERISK_T3_Data.ipynb\" target=\"_parent\"><img src=\"https://colab.research.google.com/assets/colab-badge.svg\" alt=\"Open In Colab\"/></a>"
      ]
    },
    {
      "cell_type": "code",
      "execution_count": null,
      "metadata": {
        "colab": {
          "base_uri": "https://localhost:8080/"
        },
        "id": "VwLGCJ8xqvvC",
        "outputId": "277ba3ea-1edc-464d-aea2-10aa8ff45ea5"
      },
      "outputs": [
        {
          "output_type": "stream",
          "name": "stdout",
          "text": [
            "Conversion complete.\n"
          ]
        }
      ],
      "source": [
        "import csv\n",
        "\n",
        "# Input file name\n",
        "input_file = \"ground-truth_eRisk2022_T3.txt\"\n",
        "\n",
        "# Output CSV file name\n",
        "output_file = \"ground-truth_eRisk2022_T3.csv\"\n",
        "\n",
        "# Read data from the input file\n",
        "with open(input_file, 'r') as f:\n",
        "    lines = f.readlines()\n",
        "\n",
        "# Process the data to separate numbers and put them in individual cells\n",
        "processed_data = []\n",
        "for line in lines:\n",
        "    parts = line.strip().split('\\t')\n",
        "    row_data = []\n",
        "    for part in parts:\n",
        "        row_data.extend(part.split())\n",
        "    processed_data.append(row_data)\n",
        "\n",
        "# Write the data to a CSV file\n",
        "with open(output_file, 'w', newline='') as csvfile:\n",
        "    writer = csv.writer(csvfile)\n",
        "    writer.writerows(processed_data)\n",
        "\n",
        "print(\"Conversion complete.\")\n"
      ]
    },
    {
      "cell_type": "code",
      "source": [
        "import os\n",
        "from bs4 import BeautifulSoup\n",
        "import csv\n",
        "\n",
        "# Function to process XML files and generate CSV\n",
        "def process_xml_to_csv(xml_file_path, output_csv_path):\n",
        "    with open(xml_file_path, 'r', encoding='utf-8') as file:\n",
        "        xml_data = file.read()\n",
        "\n",
        "    soup = BeautifulSoup(xml_data, 'xml')\n",
        "\n",
        "    with open(output_csv_path, 'w', newline='', encoding='utf-8') as csvfile:\n",
        "        writer = csv.writer(csvfile)\n",
        "        writer.writerow(['Title', 'Date', 'Text'])\n",
        "        for writing in soup.find_all('WRITING'):\n",
        "            title = writing.find('TITLE').get_text().strip()\n",
        "            date = writing.find('DATE').get_text().strip().lstrip(\"b'\").rstrip(\"'\")\n",
        "            text = writing.find('TEXT').get_text().strip().lstrip(\"b'\").rstrip(\"'\")\n",
        "            writer.writerow([title, date, text])\n",
        "\n",
        "# Path to the folder containing XML files\n",
        "xml_folder = '2022'\n",
        "\n",
        "# Iterate over each XML file in the folder\n",
        "for filename in os.listdir(xml_folder):\n",
        "    if filename.endswith('.xml'):\n",
        "        xml_file_path = os.path.join(xml_folder, filename)\n",
        "        output_csv_path = os.path.splitext(xml_file_path)[0] + '.csv'  # Use same name for CSV\n",
        "        process_xml_to_csv(xml_file_path, output_csv_path)\n",
        "\n",
        "print(\"CSV files generated successfully.\")\n"
      ],
      "metadata": {
        "colab": {
          "base_uri": "https://localhost:8080/"
        },
        "id": "iEOptg27Hcb_",
        "outputId": "2acd3241-9aad-4ab1-8a40-4480b32eba02"
      },
      "execution_count": null,
      "outputs": [
        {
          "output_type": "stream",
          "name": "stdout",
          "text": [
            "CSV files generated successfully.\n"
          ]
        }
      ]
    },
    {
      "cell_type": "code",
      "source": [
        "import os\n",
        "from bs4 import BeautifulSoup\n",
        "import csv\n",
        "\n",
        "# Function to process XML files and generate CSV\n",
        "def process_xml_to_csv(xml_file_path, output_csv_path):\n",
        "    with open(xml_file_path, 'r', encoding='utf-8') as file:\n",
        "        xml_data = file.read()\n",
        "\n",
        "    soup = BeautifulSoup(xml_data, 'xml')\n",
        "\n",
        "    with open(output_csv_path, 'w', newline='', encoding='utf-8') as csvfile:\n",
        "        writer = csv.writer(csvfile)\n",
        "        writer.writerow(['Title', 'Date', 'Text'])\n",
        "        for writing in soup.find_all('WRITING'):\n",
        "            title = writing.find('TITLE').get_text().strip()\n",
        "            date = writing.find('DATE').get_text().strip()\n",
        "            text = writing.find('TEXT').get_text().strip()\n",
        "            writer.writerow([title, date, text])\n",
        "\n",
        "# Path to the folder containing XML files\n",
        "xml_folder = '2023'\n",
        "\n",
        "# Iterate over each XML file in the folder\n",
        "for filename in os.listdir(xml_folder):\n",
        "    if filename.endswith('.xml'):\n",
        "        xml_file_path = os.path.join(xml_folder, filename)\n",
        "        output_csv_path = os.path.splitext(xml_file_path)[0] + '.csv'  # Use same name for CSV\n",
        "        process_xml_to_csv(xml_file_path, output_csv_path)\n",
        "\n",
        "print(\"CSV files generated successfully.\")\n"
      ],
      "metadata": {
        "colab": {
          "base_uri": "https://localhost:8080/"
        },
        "id": "lYXtTBzBNsut",
        "outputId": "d6b4454a-8a78-49fa-e8dc-72cdff647397"
      },
      "execution_count": null,
      "outputs": [
        {
          "output_type": "stream",
          "name": "stdout",
          "text": [
            "CSV files generated successfully.\n"
          ]
        }
      ]
    },
    {
      "cell_type": "code",
      "source": [
        "!zip -r /content/2023.zip /content/2023\n"
      ],
      "metadata": {
        "id": "7RmcqAOYOD6V"
      },
      "execution_count": null,
      "outputs": []
    }
  ]
}